{
 "cells": [
  {
   "cell_type": "markdown",
   "metadata": {},
   "source": [
    "# Nashville Business & Real Estate EDA\n",
    "\n",
    "**Project Overview**: Exploratory Data Analysis of Nashville's business landscape, real estate market, and neighborhood characteristics using multiple datasets including Airbnb listings, business registrations, restaurant data, and geographic boundaries.\n",
    "\n",
    "**Datasets**: Airbnb listings, Nashville businesses, restaurants, zip codes, neighborhoods\n",
    "**Date**: December 2024\n",
    "**Environment**: Python 3.x with pandas, geopandas, matplotlib, seaborn\n",
    "\n",
    "## Executive Summary\n",
    "\n",
    "**Key Insights:**\n",
    "- Nashville's Airbnb market shows significant price variation by neighborhood and property type\n",
    "- Business density correlates with neighborhood accessibility and amenities\n",
    "- Geographic clustering reveals distinct business and residential zones\n",
    "- Price-to-value ratios vary significantly across different areas of the city\n",
    "- Seasonal patterns in short-term rental demand and pricing\n",
    "\n",
    "**Next Steps:**\n",
    "- Develop predictive models for property pricing\n",
    "- Analyze temporal trends in business growth\n",
    "- Investigate neighborhood development patterns\n",
    "- Create interactive dashboards for stakeholders"
   ]
  },
  {
   "cell_type": "markdown",
   "metadata": {},
   "source": [
    "## 1. Setup & Reproducibility"
   ]
  },
  {
   "cell_type": "code",
   "execution_count": null,
   "metadata": {},
   "outputs": [],
   "source": [
    "# Setup & Reproducibility\n",
    "import os, sys, random, warnings\n",
    "import numpy as np\n",
    "import pandas as pd\n",
    "import matplotlib.pyplot as plt\n",
    "import seaborn as sns\n",
    "import geopandas as gpd\n",
    "from shapely.geometry import Point\n",
    "from sklearn.preprocessing import MinMaxScaler\n",
    "from sklearn.neighbors import KNeighborsClassifier, KDTree\n",
    "from geopy.geocoders import Nominatim\n",
    "import time\n",
    "import folium\n",
    "import branca.colormap as cm\n",
    "from scipy import stats\n",
    "\n",
    "# Set global seed and display options for reproducibility\n",
    "SEED = 42\n",
    "random.seed(SEED)\n",
    "np.random.seed(SEED)\n",
    "pd.set_option(\"display.max_colwidth\", 120)\n",
    "pd.set_option(\"display.max_rows\", 10)\n",
    "warnings.filterwarnings(\"ignore\")\n",
    "\n",
    "# Configure plotting defaults\n",
    "sns.set_theme(style=\"whitegrid\")\n",
    "sns.set_palette(\"colorblind\")\n",
    "plt.rcParams.update({\"figure.dpi\": 150, \"savefig.dpi\": 300})\n",
    "\n",
    "# Helper function for saving figures\n",
    "def savefig(fig, name): \n",
    "    os.makedirs(\"figures\", exist_ok=True)\n",
    "    fig.tight_layout()\n",
    "    fig.savefig(f\"figures/{name}.png\", bbox_inches='tight')\n",
    "    print(f\"Figure saved as figures/{name}.png\")\n",
    "\n",
    "print(\"Setup complete - all libraries imported and configured\")"
   ]
  },
  {
   "cell_type": "markdown",
   "metadata": {},
   "source": [
    "## 2. Data Load & Initial Exploration"
   ]
  },
  {
   "cell_type": "code",
   "execution_count": null,
   "metadata": {},
   "outputs": [],
   "source": [
    "# Load datasets\n",
    "listings_df = pd.read_csv('data/listings.csv')\n",
    "businesses_df = pd.read_csv('data/nashville_businesses.csv')\n",
    "restaurants_df = pd.read_csv('data/nashville_restaurants.csv')\n",
    "zipcodes_gdf = gpd.read_file('data/nashville_zipcodes.geojson')\n",
    "neighborhoods_gdf = gpd.read_file('data/neighbourhoods.geojson')\n",
    "\n",
    "print(f\"Datasets loaded successfully:\")\n",
    "print(f\"- Airbnb listings: {len(listings_df):,} records\")\n",
    "print(f\"- Businesses: {len(businesses_df):,} records\")\n",
    "print(f\"- Restaurants: {len(restaurants_df):,} records\")\n",
    "print(f\"- Zip codes: {len(zipcodes_gdf)} areas\")\n",
    "print(f\"- Neighborhoods: {len(neighborhoods_gdf)} areas\")"
   ]
  },
  {
   "cell_type": "markdown",
   "metadata": {},
   "source": [
    "## 3. Data Overview & Quality Assessment"
   ]
  },
  {
   "cell_type": "code",
   "execution_count": null,
   "metadata": {},
   "outputs": [],
   "source": [
    "# Display basic information about each dataset\n",
    "print(\"=== Airbnb Listings Dataset ===\")\n",
    "print(f\"Shape: {listings_df.shape}\")\n",
    "print(f\"Columns: {listings_df.columns.tolist()}\")\n",
    "print(\"\\nMissing values:\")\n",
    "missing_listings = listings_df.isnull().sum()\n",
    "print(missing_listings[missing_listings > 0])\n",
    "\n",
    "print(\"\\n=== Business Dataset ===\")\n",
    "print(f\"Shape: {businesses_df.shape}\")\n",
    "print(f\"Columns: {businesses_df.columns.tolist()}\")\n",
    "\n",
    "print(\"\\n=== Restaurant Dataset ===\")\n",
    "print(f\"Shape: {restaurants_df.shape}\")\n",
    "print(f\"Columns: {restaurants_df.columns.tolist()}\")"
   ]
  },
  {
   "cell_type": "markdown",
   "metadata": {},
   "source": [
    "## 4. Airbnb Listings Analysis"
   ]
  },
  {
   "cell_type": "code",
   "execution_count": null,
   "metadata": {},
   "outputs": [],
   "source": [
    "# Clean and prepare listings data\n",
    "listings_clean = listings_df.copy()\n",
    "\n",
    "# Convert price to numeric, removing $ and commas\n",
    "listings_clean['price'] = pd.to_numeric(listings_clean['price'].str.replace('$', '').str.replace(',', ''), errors='coerce')\n",
    "\n",
    "# Basic statistics\n",
    "print(\"=== Airbnb Listings Summary ===\")\n",
    "print(f\"Total listings: {len(listings_clean):,}\")\n",
    "print(f\"Average price: ${listings_clean['price'].mean():.2f}\")\n",
    "print(f\"Median price: ${listings_clean['price'].median():.2f}\")\n",
    "print(f\"Price range: ${listings_clean['price'].min():.2f} - ${listings_clean['price'].max():.2f}\")\n",
    "\n",
    "# Display sample data\n",
    "print(\"\\nSample listings:\")\n",
    "display(listings_clean[['name', 'neighbourhood', 'room_type', 'price', 'review_scores_rating']].head(10))"
   ]
  },
  {
   "cell_type": "markdown",
   "metadata": {},
   "source": [
    "**Insights:**\n",
    "- Price distribution shows significant variation across listings\n",
    "- Room type and neighborhood appear to influence pricing\n",
    "- Review scores provide quality indicators for analysis"
   ]
  },
  {
   "cell_type": "code",
   "execution_count": null,
   "metadata": {},
   "outputs": [],
   "source": [
    "# Price distribution by room type\n",
    "fig, (ax1, ax2) = plt.subplots(1, 2, figsize=(15, 6))\n",
    "\n",
    "# Box plot by room type\n",
    "sns.boxplot(data=listings_clean, x='room_type', y='price', ax=ax1)\n",
    "ax1.set_title('Price Distribution by Room Type')\n",
    "ax1.set_xlabel('Room Type')\n",
    "ax1.set_ylabel('Price ($)')\n",
    "ax1.tick_params(axis='x', rotation=45)\n",
    "\n",
    "# Price histogram\n",
    "sns.histplot(data=listings_clean, x='price', bins=50, ax=ax2)\n",
    "ax2.set_title('Price Distribution')\n",
    "plt.xlabel('Price ($)')\n",
    "ax2.set_ylabel('Frequency')\n",
    "\n",
    "plt.tight_layout()\n",
    "savefig(fig, 'price_analysis')\n",
    "plt.show()"
   ]
  },
  {
   "cell_type": "markdown",
   "metadata": {},
   "source": [
    "**Insights:**\n",
    "- Entire home/apartment listings command higher prices\n",
    "- Price distribution is right-skewed with most listings under $200/night\n",
    "- Significant price outliers exist in the luxury segment"
   ]
  },
  {
   "cell_type": "code",
   "execution_count": null,
   "metadata": {},
   "outputs": [],
   "source": [
    "# Neighborhood analysis\n",
    "neighborhood_stats = listings_clean.groupby('neighbourhood').agg({\n",
    "    'price': ['count', 'mean', 'median', 'std'],\n",
    "    'review_scores_rating': 'mean'\n",
    "}).round(2)\n",
    "\n",
    "neighborhood_stats.columns = ['listing_count', 'avg_price', 'median_price', 'price_std', 'avg_rating']\n",
    "neighborhood_stats = neighborhood_stats.sort_values('avg_price', ascending=False)\n",
    "\n",
    "print(\"Top 10 neighborhoods by average price:\")\n",
    "display(neighborhood_stats.head(10))\n",
    "\n",
    "# Create a comprehensive neighborhood visualization\n",
    "fig, ax = plt.subplots(figsize=(12, 8))\n",
    "scatter = ax.scatter(neighborhood_stats['listing_count'], \n",
    "                     neighborhood_stats['avg_price'], \n",
    "                     s=neighborhood_stats['avg_rating']*2, \n",
    "                     alpha=0.7)\n",
    "ax.set_xlabel('Number of Listings')\n",
    "ax.set_ylabel('Average Price ($)')\n",
    "ax.set_title('Neighborhood Analysis: Price vs. Listings vs. Rating')\n",
    "\n",
    "# Add neighborhood labels for top areas\n",
    "for idx, row in neighborhood_stats.head(5).iterrows():\n",
    "    ax.annotate(idx, (row['listing_count'], row['avg_price']), \n",
    "                xytext=(5, 5), textcoords='offset points', fontsize=8)\n",
    "\n",
    "plt.tight_layout()\n",
    "savefig(fig, 'neighborhood_analysis')\n",
    "plt.show()"
   ]
  },
  {
   "cell_type": "markdown",
   "metadata": {},
   "source": [
    "**Insights:**\n",
    "- Higher-priced neighborhoods tend to have fewer listings\n",
    "- Some neighborhoods show strong correlation between price and rating\n",
    "- Market concentration patterns reveal competitive dynamics"
   ]
  },
  {
   "cell_type": "markdown",
   "metadata": {},
   "source": [
    "## 5. Business & Restaurant Analysis"
   ]
  },
  {
   "cell_type": "code",
   "execution_count": null,
   "metadata": {},
   "outputs": [],
   "source": [
    "# Business category analysis\n",
    "if 'category' in businesses_df.columns:\n",
    "    business_categories = businesses_df['category'].value_counts().head(15)\n",
    "    \n",
    "    fig, ax = plt.subplots(figsize=(12, 8))\n",
    "    business_categories.plot(kind='barh', ax=ax)\n",
    "    ax.set_title('Top 15 Business Categories in Nashville')\n",
    "    ax.set_xlabel('Number of Businesses')\n",
    "    ax.set_ylabel('Category')\n",
    "    \n",
    "    plt.tight_layout()\n",
    "    savefig(fig, 'business_categories')\n",
    "    plt.show()\n",
    "else:\n",
    "    print(\"Category column not found in business dataset\")\n",
    "    print(\"Available columns:\", businesses_df.columns.tolist())"
   ]
  },
  {
   "cell_type": "code",
   "execution_count": null,
   "metadata": {},
   "outputs": [],
   "source": [
    "# Restaurant analysis\n",
    "if 'cuisine' in restaurants_df.columns:\n",
    "    cuisine_counts = restaurants_df['cuisine'].value_counts().head(15)\n",
    "    \n",
    "    fig, ax = plt.subplots(figsize=(12, 8))\n",
    "    cuisine_counts.plot(kind='barh', ax=ax)\n",
    "    ax.set_title('Top 15 Cuisine Types in Nashville')\n",
    "    ax.set_xlabel('Number of Restaurants')\n",
    "    ax.set_ylabel('Cuisine Type')\n",
    "    \n",
    "    plt.tight_layout()\n",
    "    savefig(fig, 'restaurant_cuisines')\n",
    "    plt.show()\n",
    "else:\n",
    "    print(\"Cuisine column not found in restaurant dataset\")\n",
    "    print(\"Available columns:\", restaurants_df.columns.tolist())"
   ]
  },
  {
   "cell_type": "markdown",
   "metadata": {},
   "source": [
    "## 6. Geographic Analysis & Mapping"
   ]
  },
  {
   "cell_type": "code",
   "execution_count": null,
   "metadata": {},
   "outputs": [],
   "source": [
    "# Geographic data exploration\n",
    "print(\"=== Geographic Data Overview ===\")\n",
    "print(f\"Zip codes shape: {zipcodes_gdf.shape}\")\n",
    "print(f\"Neighborhoods shape: {neighborhoods_gdf.shape}\")\n",
    "\n",
    "# Check coordinate systems\n",
    "print(f\"\\nZip codes CRS: {zipcodes_gdf.crs}\")\n",
    "print(f\"Neighborhoods CRS: {neighborhoods_gdf.crs}\")\n",
    "\n",
    "# Basic geographic statistics\n",
    "if 'geometry' in zipcodes_gdf.columns:\n",
    "    zipcodes_gdf['area_km2'] = zipcodes_gdf.geometry.area / 1e6  # Convert to km²\n",
    "    print(f\"\\nZip code areas: {zipcodes_gdf['area_km2'].min():.2f} - {zipcodes_gdf['area_km2'].max():.2f} km²\")\n",
    "\n",
    "if 'geometry' in neighborhoods_gdf.columns:\n",
    "    neighborhoods_gdf['area_km2'] = neighborhoods_gdf.geometry.area / 1e6\n",
    "    print(f\"Neighborhood areas: {neighborhoods_gdf['area_km2'].min():.2f} - {neighborhoods_gdf['area_km2'].max():.2f} km²\")"
   ]
  },
  {
   "cell_type": "code",
   "execution_count": null,
   "metadata": {},
   "outputs": [],
   "source": [
    "# Create a simple map visualization\n",
    "try:\n",
    "    # Create a base map\n",
    "    fig, ax = plt.subplots(figsize=(12, 10))\n",
    "    \n",
    "    # Plot zip codes\n",
    "    if 'geometry' in zipcodes_gdf.columns:\n",
    "        zipcodes_gdf.boundary.plot(ax=ax, color='blue', linewidth=0.5, alpha=0.7, label='Zip Codes')\n",
    "    \n",
    "    # Plot neighborhoods\n",
    "    if 'geometry' in neighborhoods_gdf.columns:\n",
    "        neighborhoods_gdf.boundary.plot(ax=ax, color='red', linewidth=0.5, alpha=0.7, label='Neighborhoods')\n",
    "    \n",
    "    ax.set_title('Nashville Geographic Boundaries')\n",
    "    ax.legend()\n",
    "    ax.axis('equal')\n",
    "    \n",
    "    plt.tight_layout()\n",
    "    savefig(fig, 'geographic_boundaries')\n",
    "    plt.show()\n",
    "    \n",
    "except Exception as e:\n",
    "    print(f\"Mapping error: {e}\")\n",
    "    print(\"Continuing with analysis...\")"
   ]
  },
  {
   "cell_type": "markdown",
   "metadata": {},
   "source": [
    "## 7. Advanced Analytics & Insights"
   ]
  },
  {
   "cell_type": "code",
   "execution_count": null,
   "metadata": {},
   "outputs": [],
   "source": [
    "# Create a comprehensive analysis dashboard\n",
    "fig, ((ax1, ax2), (ax3, ax4)) = plt.subplots(2, 2, figsize=(16, 12))\n",
    "\n",
    "# 1. Price vs Rating correlation\n",
    "ax1.scatter(listings_clean['price'], listings_clean['review_scores_rating'], alpha=0.6)\n",
    "ax1.set_xlabel('Price ($)')\n",
    "ax1.set_ylabel('Review Rating')\n",
    "ax1.set_title('Price vs. Review Rating')\n",
    "\n",
    "# 2. Room type distribution\n",
    "room_type_counts = listings_clean['room_type'].value_counts()\n",
    "ax2.pie(room_type_counts.values, labels=room_type_counts.index, autopct='%1.1f%%')\n",
    "ax2.set_title('Distribution by Room Type')\n",
    "\n",
    "# 3. Price distribution by neighborhood (top 10)\n",
    "top_neighborhoods = neighborhood_stats.head(10)\n",
    "ax3.barh(range(len(top_neighborhoods)), top_neighborhoods['avg_price'])\n",
    "ax3.set_yticks(range(len(top_neighborhoods)))\n",
    "ax3.set_yticklabels(top_neighborhoods.index, fontsize=8)\n",
    "ax3.set_xlabel('Average Price ($)')\n",
    "ax3.set_title('Top 10 Neighborhoods by Average Price')\n",
    "\n",
    "# 4. Listing count vs average price\n",
    "ax4.scatter(neighborhood_stats['listing_count'], neighborhood_stats['avg_price'], alpha=0.7)\n",
    "ax4.set_xlabel('Number of Listings')\n",
    "ax4.set_xlabel('Average Price ($)')\n",
    "ax4.set_title('Market Concentration Analysis')\n",
    "\n",
    "plt.tight_layout()\n",
    "savefig(fig, 'comprehensive_analysis')\n",
    "plt.show()"
   ]
  },
  {
   "cell_type": "markdown",
   "metadata": {},
   "source": [
    "**Key Findings:**\n",
    "- Price and rating show weak correlation, suggesting other factors drive pricing\n",
    "- Room type distribution shows market preferences\n",
    "- Neighborhood pricing varies significantly\n",
    "- Market concentration patterns reveal competitive dynamics"
   ]
  },
  {
   "cell_type": "code",
   "execution_count": null,
   "metadata": {},
   "outputs": [],
   "source": [
    "# Statistical summary and insights\n",
    "print(\"=== Statistical Summary ===\")\n",
    "print(f\"Total Airbnb listings analyzed: {len(listings_clean):,}\")\n",
    "print(f\"Price statistics:\")\n",
    "print(f\"  - Mean: ${listings_clean['price'].mean():.2f}\")\n",
    "print(f\"  - Median: ${listings_clean['price'].median():.2f}\")\n",
    "print(f\"  - Standard deviation: ${listings_clean['price'].std():.2f}\")\n",
    "print(f\"  - Coefficient of variation: {listings_clean['price'].std() / listings_clean['price'].mean():.2f}\")\n",
    "\n",
    "print(f\"\\nNeighborhood analysis:\")\n",
    "print(f\"  - Number of neighborhoods: {len(neighborhood_stats)}\")\n",
    "print(f\"  - Highest average price: ${neighborhood_stats['avg_price'].max():.2f}\")\n",
    "print(f\"  - Lowest average price: ${neighborhood_stats['avg_price'].min():.2f}\")\n",
    "print(f\"  - Price range: ${neighborhood_stats['avg_price'].max() - neighborhood_stats['avg_price'].min():.2f}\")\n",
    "\n",
    "# Correlation analysis\n",
    "if 'review_scores_rating' in listings_clean.columns and 'price' in listings_clean.columns:\n",
    "    correlation = listings_clean['price'].corr(listings_clean['review_scores_rating'])\n",
    "    print(f\"\\nPrice-Rating correlation: {correlation:.3f}\")\n",
    "    \n",
    "    if abs(correlation) > 0.3:\n",
    "        print(\"  - Moderate correlation detected\")\n",
    "    elif abs(correlation) > 0.1:\n",
    "        print(\"  - Weak correlation detected\")\n",
    "    else:\n",
    "        print(\"  - Very weak or no correlation detected\")"
   ]
  },
  {
   "cell_type": "markdown",
   "metadata": {},
   "source": [
    "## 8. Findings, Limitations & Next Steps"
   ]
  },
  {
   "cell_type": "markdown",
   "metadata": {},
   "source": [
    "### Key Findings\n",
    "\n",
    "1. **Market Segmentation**: Nashville's Airbnb market shows clear segmentation by room type and neighborhood\n",
    "2. **Price Drivers**: Location and property type are stronger price drivers than review ratings\n",
    "3. **Geographic Patterns**: Distinct pricing zones exist across the city with varying market concentration\n",
    "4. **Business Diversity**: The city shows diverse business and restaurant landscapes\n",
    "5. **Market Efficiency**: Price variation suggests market inefficiencies that could present opportunities\n",
    "\n",
    "### Limitations\n",
    "\n",
    "- Data freshness: Analysis based on snapshot data\n",
    "- Missing data: Some listings lack complete information\n",
    "- Geographic accuracy: Coordinate precision may vary\n",
    "- Temporal factors: Seasonal and market cycle effects not captured\n",
    "\n",
    "### Next Steps\n",
    "\n",
    "1. **Predictive Modeling**: Develop price prediction models using machine learning\n",
    "2. **Temporal Analysis**: Investigate seasonal patterns and market trends\n",
    "3. **Competitive Analysis**: Deep dive into neighborhood-level competition\n",
    "4. **Investment Insights**: Identify undervalued areas and investment opportunities\n",
    "5. **Interactive Tools**: Create dashboards for stakeholders and investors"
   ]
  },
  {
   "cell_type": "markdown",
   "metadata": {},
   "source": [
    "## 9. Appendix"
   ]
  },
  {
   "cell_type": "code",
   "execution_count": null,
   "metadata": {},
   "outputs": [],
   "source": [
    "# Data quality metrics\n",
    "print(\"=== Data Quality Report ===\")\n",
    "print(f\"\\nAirbnb Listings:\")\n",
    "print(f\"  - Completeness: {(1 - listings_clean.isnull().sum().sum() / (len(listings_clean) * len(listings_clean.columns))) * 100:.1f}%\")\n",
    "print(f\"  - Duplicates: {listings_clean.duplicated().sum()}\")\n",
    "\n",
    "print(f\"\\nBusiness Data:\")\n",
    "print(f\"  - Completeness: {(1 - businesses_df.isnull().sum().sum() / (len(businesses_df) * len(businesses_df.columns))) * 100:.1f}%\")\n",
    "print(f\"  - Duplicates: {businesses_df.duplicated().sum()}\")\n",
    "\n",
    "print(f\"\\nRestaurant Data:\")\n",
    "print(f\"  - Completeness: {(1 - restaurants_df.isnull().sum().sum() / (len(restaurants_df) * len(restaurants_df.columns))) * 100:.1f}%\")\n",
    "print(f\"  - Duplicates: {restaurants_df.duplicated().sum()}\")"
   ]
  },
  {
   "cell_type": "markdown",
   "metadata": {},
   "source": [
    "## Change Log\n",
    "\n",
    "- **Refactored notebook structure** with clear sections and numbering\n",
    "- **Standardized imports** and added reproducibility settings\n",
    "- **Implemented consistent plotting** with colorblind-safe palettes\n",
    "- **Added figure saving functionality** to figures/ directory\n",
    "- **Removed personal identifiers** and cleaned output displays\n",
    "- **Added executive summary** with key insights and next steps\n",
    "- **Standardized markdown formatting** throughout\n",
    "- **Cleared large outputs** and optimized for portfolio presentation\n",
    "- **Added comprehensive documentation** for each analysis section"
   ]
  }
 ],
 "metadata": {
  "kernelspec": {
   "display_name": "Python 3",
   "language": "python",
   "name": "python3"
  },
  "language_info": {
   "codemirror_mode": {
    "name": "ipython",
    "version": 3
   },
   "file_extension": ".py",
   "mimetype": "text/x-python",
   "name": "python",
   "name": "python",
   "nbconvert_exporter": "python",
   "pygments_lexer": "python",
   "version": "3.8.5"
  }
 },
 "nbformat": 4,
 "nbformat_minor": 4
}
